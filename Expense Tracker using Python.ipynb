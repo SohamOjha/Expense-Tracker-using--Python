{
 "cells": [
  {
   "cell_type": "code",
   "execution_count": 1,
   "id": "4810b6a7-61d6-4559-8280-d0e2c10215bb",
   "metadata": {},
   "outputs": [],
   "source": [
    "# Import Libraries\n",
    "import pandas as pd\n",
    "import numpy as np\n",
    "import matplotlib.pyplot as plt"
   ]
  },
  {
   "cell_type": "code",
   "execution_count": 5,
   "id": "41e0adda-f87e-4817-bbad-65394a155307",
   "metadata": {},
   "outputs": [
    {
     "data": {
      "text/html": [
       "<div>\n",
       "<style scoped>\n",
       "    .dataframe tbody tr th:only-of-type {\n",
       "        vertical-align: middle;\n",
       "    }\n",
       "\n",
       "    .dataframe tbody tr th {\n",
       "        vertical-align: top;\n",
       "    }\n",
       "\n",
       "    .dataframe thead th {\n",
       "        text-align: right;\n",
       "    }\n",
       "</style>\n",
       "<table border=\"1\" class=\"dataframe\">\n",
       "  <thead>\n",
       "    <tr style=\"text-align: right;\">\n",
       "      <th></th>\n",
       "      <th>Date</th>\n",
       "      <th>Category</th>\n",
       "      <th>Amount</th>\n",
       "      <th>Description</th>\n",
       "    </tr>\n",
       "  </thead>\n",
       "  <tbody>\n",
       "    <tr>\n",
       "      <th>0</th>\n",
       "      <td>2025-10-06</td>\n",
       "      <td>Food</td>\n",
       "      <td>150</td>\n",
       "      <td>Pizza at Dominos</td>\n",
       "    </tr>\n",
       "    <tr>\n",
       "      <th>1</th>\n",
       "      <td>2025-11-06</td>\n",
       "      <td>Transport</td>\n",
       "      <td>50</td>\n",
       "      <td>Rickshaw fare</td>\n",
       "    </tr>\n",
       "    <tr>\n",
       "      <th>2</th>\n",
       "      <td>2025-12-06</td>\n",
       "      <td>Rent</td>\n",
       "      <td>5000</td>\n",
       "      <td>June rent</td>\n",
       "    </tr>\n",
       "    <tr>\n",
       "      <th>3</th>\n",
       "      <td>2025-12-06</td>\n",
       "      <td>Utilities</td>\n",
       "      <td>200</td>\n",
       "      <td>Electricity Bill</td>\n",
       "    </tr>\n",
       "  </tbody>\n",
       "</table>\n",
       "</div>"
      ],
      "text/plain": [
       "        Date   Category  Amount       Description\n",
       "0 2025-10-06       Food     150  Pizza at Dominos\n",
       "1 2025-11-06  Transport      50     Rickshaw fare\n",
       "2 2025-12-06       Rent    5000         June rent\n",
       "3 2025-12-06  Utilities     200  Electricity Bill"
      ]
     },
     "execution_count": 5,
     "metadata": {},
     "output_type": "execute_result"
    }
   ],
   "source": [
    "# Load csv data\n",
    "# read expenses.csv file\n",
    "df = pd.read_csv('expenses.csv', parse_dates=['Date'])\n",
    "# display first few records\n",
    "df.head()"
   ]
  },
  {
   "cell_type": "code",
   "execution_count": 6,
   "id": "4ee1f129-b47d-4565-b7f6-44f56fd52dd3",
   "metadata": {},
   "outputs": [],
   "source": [
    "# Total Spending Overview\n",
    "total_spent = df['Amount'].sum() # Calculating total spent across all expenses\n",
    "highest_expense = df.loc[df['Amount'].idxmax()] # Find the row with the highest expense by locating the index of the max value\n",
    "lowest_expense = df.loc[df['Amount'].idxmin()] # Find the row with the lowest expense by locating the index of the min value"
   ]
  },
  {
   "cell_type": "code",
   "execution_count": 7,
   "id": "a4ae05b5-7266-40f8-acb8-1870918405a4",
   "metadata": {},
   "outputs": [
    {
     "name": "stdout",
     "output_type": "stream",
     "text": [
      "Total spent overall: 5400\n",
      "\n",
      "Highest expense:\n",
      "Date           2025-12-06 00:00:00\n",
      "Category                      Rent\n",
      "Amount                        5000\n",
      "Description              June rent\n",
      "Name: 2, dtype: object\n",
      "\n",
      "Lowest expense:\n",
      "Date           2025-11-06 00:00:00\n",
      "Category                 Transport\n",
      "Amount                          50\n",
      "Description          Rickshaw fare\n",
      "Name: 1, dtype: object\n"
     ]
    }
   ],
   "source": [
    "# Print the total spent and the details of highest and lowest expenses\n",
    "print(f\"Total spent overall: {total_spent}\")\n",
    "print(\"\\nHighest expense:\")\n",
    "print(highest_expense)\n",
    "print(\"\\nLowest expense:\")\n",
    "print(lowest_expense)"
   ]
  },
  {
   "cell_type": "code",
   "execution_count": 8,
   "id": "226c0cf3-a740-4e83-b8c4-febfd73fe2a0",
   "metadata": {},
   "outputs": [
    {
     "name": "stdout",
     "output_type": "stream",
     "text": [
      "\n",
      "Category-wise summary:\n",
      "\n",
      "           total_amount  transaction_count  percentage_of_total\n",
      "Category                                                       \n",
      "Food                150                  1                 2.78\n",
      "Rent               5000                  1                92.59\n",
      "Transport            50                  1                 0.93\n",
      "Utilities           200                  1                 3.70\n"
     ]
    }
   ],
   "source": [
    "# Category wise analysis\n",
    "# grouping data by 'Category' to analyze spending per category\n",
    "category_group = df.groupby('Category').agg(\n",
    "    total_amount=('Amount', 'sum'),          # Total money spent per category\n",
    "    transaction_count=('Amount', 'count')    # Number of transactions per category\n",
    ")\n",
    "# Calculate what percentage of the total spending each category accounts for\n",
    "category_group['percentage_of_total'] = (\n",
    "    category_group['total_amount'] / total_spent * 100\n",
    ").round(2)\n",
    "# Print the category-wise summary\n",
    "print(\"\\nCategory-wise summary:\\n\")\n",
    "print(category_group)"
   ]
  },
  {
   "cell_type": "code",
   "execution_count": 16,
   "id": "1af26b2a-9d2c-4e5c-9b1b-8720aae1273f",
   "metadata": {},
   "outputs": [
    {
     "data": {
      "image/png": "[encoded data removed]",
      "text/plain": [
       "<Figure size 600x600 with 1 Axes>"
      ]
     },
     "metadata": {},
     "output_type": "display_data"
    }
   ],
   "source": [
    "# Pie chart of spending by category\n",
    "plt.figure(figsize=(6, 6))  # Set the figure size\n",
    "\n",
    "# Create the pie chart WITHOUT labels or autopct on slices\n",
    "wedges, texts = plt.pie(\n",
    "    category_group['total_amount'],\n",
    "    startangle=90,\n",
    "    colors=plt.cm.Set3.colors[:len(category_group)],  # optional nice color set\n",
    "    wedgeprops={'linewidth': 1, 'edgecolor': 'white'}\n",
    ")\n",
    "\n",
    "# Calculate percentages manually\n",
    "percentages = (category_group['total_amount'] / category_group['total_amount'].sum() * 100).round(1)\n",
    "\n",
    "# Build legend labels as \"Category - xx.x%\"\n",
    "legend_labels = [f\"{cat} — {perc}%\" for cat, perc in zip(category_group.index, percentages)]\n",
    "\n",
    "# Add a title\n",
    "plt.title('Expenses by Category (%)', fontsize=14)\n",
    "plt.axis('equal')  # Keep the pie chart circular\n",
    "\n",
    "# Place the legend outside the pie\n",
    "plt.legend(\n",
    "    wedges, legend_labels,\n",
    "    title='Category',\n",
    "    loc='center left',\n",
    "    bbox_to_anchor=(1, 0.5),\n",
    "    fontsize=10\n",
    ")\n",
    "\n",
    "plt.tight_layout()  # Fit everything nicely\n",
    "plt.show()"
   ]
  },
  {
   "cell_type": "code",
   "execution_count": 10,
   "id": "7d9a6bcc-0974-4a43-8373-0eb73011c412",
   "metadata": {},
   "outputs": [],
   "source": [
    "# Filtering data by a specific date range\n",
    "start_date = '2025-06-01'\n",
    "end_date = '2025-06-30'\n",
    "filtered_df = df[(df['Date'] >= start_date) & (df['Date'] <= end_date)]"
   ]
  },
  {
   "cell_type": "code",
   "execution_count": 11,
   "id": "4edcbce1-5e0a-43f0-b049-ec30a6643590",
   "metadata": {},
   "outputs": [
    {
     "name": "stdout",
     "output_type": "stream",
     "text": [
      "\n",
      "Expenses between 2025-06-01 and 2025-06-30:\n",
      "Empty DataFrame\n",
      "Columns: [Date, Category, Amount, Description]\n",
      "Index: []\n"
     ]
    }
   ],
   "source": [
    "# Print the filtered data to check expenses within the specified range\n",
    "print(f\"\\nExpenses between {start_date} and {end_date}:\")\n",
    "print(filtered_df)"
   ]
  },
  {
   "cell_type": "code",
   "execution_count": 13,
   "id": "fbc381fe-670b-431a-92fb-f7e7fd1d176c",
   "metadata": {},
   "outputs": [
    {
     "name": "stdout",
     "output_type": "stream",
     "text": [
      "\n",
      "New expense added successfully\n"
     ]
    }
   ],
   "source": [
    "# Adding a new expense\n",
    "# Creating a dictionary for a new expense entry\n",
    "new_expense = {\n",
    "    'Date': pd.Timestamp('2025-06-13'),   # Date of expense\n",
    "    'Category': 'Food',                  # Category of expense\n",
    "    'Amount': 200,                       # Amount spent\n",
    "    'Description': 'Groceries'           # Description\n",
    "}\n",
    "# Append the new expense as a new row in the existing DataFrame\n",
    "df = pd.concat([df, pd.DataFrame([new_expense])], ignore_index=True)\n",
    "# Save the updated DataFrame back to the CSV file\n",
    "df.to_csv('expenses.csv', index=False)\n",
    "print(\"\\nNew expense added successfully\")"
   ]
  },
  {
   "cell_type": "code",
   "execution_count": 14,
   "id": "ffef2b3c-9d7d-4217-9a17-6e3e41af0ec6",
   "metadata": {},
   "outputs": [
    {
     "name": "stdout",
     "output_type": "stream",
     "text": [
      "\n",
      "Summary report saved as summary_report.csv\n"
     ]
    }
   ],
   "source": [
    "# Save the category summary report into a new CSV file\n",
    "category_group.to_csv('summary_report.csv')\n",
    "print(\"\\nSummary report saved as summary_report.csv\")"
   ]
  },
  {
   "cell_type": "code",
   "execution_count": null,
   "id": "69f6cf7e-33f0-43cf-934a-55faea911311",
   "metadata": {},
   "outputs": [],
   "source": []
  }
 ],
 "metadata": {
  "kernelspec": {
   "display_name": "Python 3 (ipykernel)",
   "language": "python",
   "name": "python3"
  },
  "language_info": {
   "codemirror_mode": {
    "name": "ipython",
    "version": 3
   },
   "file_extension": ".py",
   "mimetype": "text/x-python",
   "name": "python",
   "nbconvert_exporter": "python",
   "pygments_lexer": "ipython3",
   "version": "3.12.3"
  }
 },
 "nbformat": 4,
 "nbformat_minor": 5
}
